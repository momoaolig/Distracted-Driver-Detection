{
 "cells": [
  {
   "cell_type": "code",
   "execution_count": 1,
   "id": "initial_id",
   "metadata": {
    "collapsed": true,
    "ExecuteTime": {
     "end_time": "2024-04-23T17:14:36.462601600Z",
     "start_time": "2024-04-23T17:14:29.775907900Z"
    }
   },
   "outputs": [],
   "source": [
    "import torch\n",
    "from tqdm import tqdm\n",
    "from torchvision import transforms, datasets, models\n",
    "from torchvision.models import ResNet50_Weights, VGG16_Weights\n",
    "from torch.utils.data import DataLoader, Subset, random_split\n",
    "device = torch.device(\"cuda\")\n",
    "PATH = '../sfddd/imgs/train'"
   ]
  },
  {
   "cell_type": "code",
   "outputs": [],
   "source": [
    "data_transforms = transforms.Compose([\n",
    "        transforms.Resize(224),\n",
    "        transforms.ToTensor(),\n",
    "        transforms.Normalize([0.485, 0.456, 0.406], [0.229, 0.224, 0.225])\n",
    "    ])\n",
    "\n",
    "dataset = datasets.ImageFolder(PATH, transform=data_transforms)\n",
    "subset_indices = range(10000)\n",
    "\n",
    "# Create a Subset instance\n",
    "subset = Subset(dataset, subset_indices)\n",
    "\n",
    "# Define the size of the test set\n",
    "test_size = int(0.3 * len(subset))\n",
    "train_size = len(subset) - test_size\n",
    "\n",
    "# Randomly split the dataset into training and test set\n",
    "train_dataset, test_dataset = random_split(subset, [train_size, test_size])\n",
    "\n",
    "# Create DataLoaders if needed\n",
    "train_loader = DataLoader(train_dataset, batch_size=16, shuffle=True)\n",
    "test_loader = DataLoader(test_dataset, batch_size=16, shuffle=False)\n",
    "\n",
    "def calculate_accuracy(y_pred, y_true):\n",
    "    _, predicted = torch.max(y_pred.data, 1)\n",
    "    total = y_true.size(0)\n",
    "    correct = (predicted == y_true).sum().item()\n",
    "    return 100 * correct / total"
   ],
   "metadata": {
    "collapsed": false,
    "ExecuteTime": {
     "end_time": "2024-04-23T17:14:36.865984500Z",
     "start_time": "2024-04-23T17:14:36.463600900Z"
    }
   },
   "id": "cf5778a134d5610d",
   "execution_count": 2
  },
  {
   "cell_type": "code",
   "outputs": [
    {
     "name": "stdout",
     "output_type": "stream",
     "text": [
      "Total parameters: 23528522\n",
      "Trainable parameters: 23528522\n"
     ]
    },
    {
     "name": "stderr",
     "output_type": "stream",
     "text": [
      "100%|██████████| 438/438 [02:14<00:00,  3.25it/s]\n"
     ]
    },
    {
     "name": "stdout",
     "output_type": "stream",
     "text": [
      "Epoch 1/3, Loss: 0.1906, ACC: 95.4481\n"
     ]
    },
    {
     "name": "stderr",
     "output_type": "stream",
     "text": [
      "100%|██████████| 438/438 [01:55<00:00,  3.78it/s]\n"
     ]
    },
    {
     "name": "stdout",
     "output_type": "stream",
     "text": [
      "Epoch 2/3, Loss: 0.0107, ACC: 99.7860\n"
     ]
    },
    {
     "name": "stderr",
     "output_type": "stream",
     "text": [
      "100%|██████████| 438/438 [02:02<00:00,  3.56it/s]\n"
     ]
    },
    {
     "name": "stdout",
     "output_type": "stream",
     "text": [
      "Epoch 3/3, Loss: 0.0039, ACC: 99.9287\n"
     ]
    },
    {
     "name": "stderr",
     "output_type": "stream",
     "text": [
      "100%|██████████| 188/188 [00:36<00:00,  5.21it/s]\n"
     ]
    },
    {
     "name": "stdout",
     "output_type": "stream",
     "text": [
      "Test Loss: 0.0090, Test Acc: 99.73\n"
     ]
    }
   ],
   "source": [
    "# ResNet50\n",
    "weights = ResNet50_Weights.DEFAULT\n",
    "model = models.resnet50(weights=weights)\n",
    "num_classes = 10  # Change this according to your dataset\n",
    "\n",
    "# Modify final fully connected layer\n",
    "num_features = model.fc.in_features\n",
    "model.fc = torch.nn.Linear(num_features, num_classes)\n",
    "# Define loss function\n",
    "criterion = torch.nn.CrossEntropyLoss()\n",
    "criterion = criterion.to(device)\n",
    "# Define optimizer\n",
    "optimizer = torch.optim.Adam(model.parameters(), lr=0.0001)\n",
    "num_epochs = 3  # Change this as needed\n",
    "model = model.to(device)\n",
    "\n",
    "# check model size\n",
    "total_params = sum(p.numel() for p in model.parameters())\n",
    "trainable_params = sum(p.numel() for p in model.parameters() if p.requires_grad)\n",
    "print(f\"Total parameters: {total_params}\")\n",
    "print(f\"Trainable parameters: {trainable_params}\")\n",
    "\n",
    "for epoch in range(num_epochs):\n",
    "    model.train()\n",
    "    running_loss = 0.0\n",
    "    acc = 0.0\n",
    "\n",
    "    for images, labels in tqdm(train_loader):\n",
    "        # Move inputs and labels to GPU if available\n",
    "        images, labels = images.to(device), labels.to(device)\n",
    "\n",
    "        # Zero the parameter gradients\n",
    "        optimizer.zero_grad()\n",
    "\n",
    "        # Forward pass\n",
    "        try:\n",
    "            outputs = model(images)\n",
    "            loss = criterion(outputs, labels)\n",
    "    \n",
    "            # Backward pass and optimize\n",
    "            loss.backward()\n",
    "            optimizer.step()\n",
    "            \n",
    "            running_loss += loss.item()\n",
    "            acc += calculate_accuracy(outputs, labels)\n",
    "\n",
    "        except RuntimeError as exception:\n",
    "          if \"out of memory\" in str(exception):\n",
    "              print('WARNING: out of memory, will pass this')     \n",
    "              torch.cuda.empty_cache()\n",
    "              continue\n",
    "          else:\n",
    "              raise exception\n",
    "    # Calculate average loss and accuracy over an epoch\n",
    "    avg_loss = running_loss / len(train_loader)\n",
    "    avg_acc = acc / len(train_loader)\n",
    "\n",
    "    print(f\"Epoch {epoch+1}/{num_epochs}, Loss: {avg_loss:.4f}, ACC: {avg_acc:.4f}\")\n",
    "\n",
    "# test\n",
    "model.eval()\n",
    "val_running_loss = 0.0\n",
    "val_acc = 0.0\n",
    "\n",
    "with torch.no_grad():\n",
    "    for images, labels in tqdm(test_loader):\n",
    "        images = images.to(device)\n",
    "        labels = labels.to(device)\n",
    "\n",
    "        outputs = model(images)\n",
    "        loss = criterion(outputs, labels)\n",
    "\n",
    "        val_running_loss += loss.item()\n",
    "        val_acc += calculate_accuracy(outputs, labels)\n",
    "\n",
    "avg_val_loss = val_running_loss / len(test_loader)\n",
    "avg_val_acc = val_acc / len(test_loader)\n",
    "\n",
    "print(f'Test Loss: {avg_val_loss:.4f}, Test Acc: {avg_val_acc:.2f}')\n",
    "torch.cuda.empty_cache()"
   ],
   "metadata": {
    "collapsed": false,
    "ExecuteTime": {
     "end_time": "2024-04-23T17:54:23.602071Z",
     "start_time": "2024-04-23T17:47:33.235331600Z"
    }
   },
   "id": "f805e2ca7e01ac4d",
   "execution_count": 9
  },
  {
   "cell_type": "code",
   "outputs": [
    {
     "name": "stdout",
     "output_type": "stream",
     "text": [
      "Total parameters: 134301514\n",
      "Trainable parameters: 134301514\n"
     ]
    },
    {
     "name": "stderr",
     "output_type": "stream",
     "text": [
      "100%|██████████| 438/438 [05:58<00:00,  1.22it/s]\n"
     ]
    },
    {
     "name": "stdout",
     "output_type": "stream",
     "text": [
      "Epoch 1/3, Loss: 0.2137, ACC: 92.4229\n"
     ]
    },
    {
     "name": "stderr",
     "output_type": "stream",
     "text": [
      "100%|██████████| 438/438 [06:24<00:00,  1.14it/s]\n"
     ]
    },
    {
     "name": "stdout",
     "output_type": "stream",
     "text": [
      "Epoch 2/3, Loss: 0.0621, ACC: 98.4446\n"
     ]
    },
    {
     "name": "stderr",
     "output_type": "stream",
     "text": [
      "100%|██████████| 438/438 [06:32<00:00,  1.12it/s]\n"
     ]
    },
    {
     "name": "stdout",
     "output_type": "stream",
     "text": [
      "Epoch 3/3, Loss: 0.0333, ACC: 99.1581\n"
     ]
    },
    {
     "name": "stderr",
     "output_type": "stream",
     "text": [
      "100%|██████████| 188/188 [00:34<00:00,  5.47it/s]"
     ]
    },
    {
     "name": "stdout",
     "output_type": "stream",
     "text": [
      "Val Loss: 0.0129, Val Acc: 99.67\n"
     ]
    },
    {
     "name": "stderr",
     "output_type": "stream",
     "text": [
      "\n"
     ]
    }
   ],
   "source": [
    "# VGG16\n",
    "weights = VGG16_Weights.DEFAULT\n",
    "model = models.vgg16(weights=weights)\n",
    "num_classes = 10  # Change this according to your dataset\n",
    "\n",
    "# Modify final fully connected layer\n",
    "num_features = model.classifier[6].in_features\n",
    "model.classifier[6] = torch.nn.Linear(num_features, num_classes)\n",
    "# Define loss function\n",
    "criterion = torch.nn.CrossEntropyLoss()\n",
    "criterion = criterion.to(device)\n",
    "# Define optimizer\n",
    "optimizer = torch.optim.Adam(model.parameters(), lr=0.0001)\n",
    "num_epochs = 3  # Change this as needed\n",
    "model = model.to(device)\n",
    "\n",
    "# check model size\n",
    "total_params = sum(p.numel() for p in model.parameters())\n",
    "trainable_params = sum(p.numel() for p in model.parameters() if p.requires_grad)\n",
    "print(f\"Total parameters: {total_params}\")\n",
    "print(f\"Trainable parameters: {trainable_params}\")\n",
    "\n",
    "for epoch in range(num_epochs):\n",
    "    model.train()\n",
    "    running_loss = 0.0\n",
    "    acc = 0.0\n",
    "\n",
    "    for images, labels in tqdm(train_loader):\n",
    "        # Move inputs and labels to GPU if available\n",
    "        images, labels = images.to(device), labels.to(device)\n",
    "\n",
    "        # Zero the parameter gradients\n",
    "        optimizer.zero_grad()\n",
    "\n",
    "        # Forward pass\n",
    "        try:\n",
    "            outputs = model(images)\n",
    "            loss = criterion(outputs, labels)\n",
    "    \n",
    "            # Backward pass and optimize\n",
    "            loss.backward()\n",
    "            optimizer.step()\n",
    "            \n",
    "            running_loss += loss.item()\n",
    "            acc += calculate_accuracy(outputs, labels)\n",
    "\n",
    "        except RuntimeError as exception:\n",
    "          if \"out of memory\" in str(exception):\n",
    "              print('WARNING: out of memory, will pass this')     \n",
    "              torch.cuda.empty_cache()\n",
    "              continue\n",
    "          else:\n",
    "              raise exception\n",
    "    # Calculate average loss and accuracy over an epoch\n",
    "    avg_loss = running_loss / len(train_loader)\n",
    "    avg_acc = acc / len(train_loader)\n",
    "\n",
    "    print(f\"Epoch {epoch+1}/{num_epochs}, Loss: {avg_loss:.4f}, ACC: {avg_acc:.4f}\")\n",
    "\n",
    "# test\n",
    "model.eval()\n",
    "val_running_loss = 0.0\n",
    "val_acc = 0.0\n",
    "\n",
    "with torch.no_grad():\n",
    "    for images, labels in tqdm(test_loader):\n",
    "        images = images.to(device)\n",
    "        labels = labels.to(device)\n",
    "\n",
    "        outputs = model(images)\n",
    "        loss = criterion(outputs, labels)\n",
    "        \n",
    "        val_running_loss += loss.item()\n",
    "        val_acc += calculate_accuracy(outputs, labels)\n",
    "\n",
    "avg_val_loss = val_running_loss / len(test_loader)\n",
    "avg_val_acc = val_acc / len(test_loader)\n",
    "\n",
    "print(f'Val Loss: {avg_val_loss:.4f}, Val Acc: {avg_val_acc:.2f}')\n",
    "torch.cuda.empty_cache()"
   ],
   "metadata": {
    "collapsed": false,
    "ExecuteTime": {
     "end_time": "2024-04-23T18:14:54.294394600Z",
     "start_time": "2024-04-23T17:55:22.731628200Z"
    }
   },
   "id": "e2c002b7e4cdb824",
   "execution_count": 10
  },
  {
   "cell_type": "code",
   "outputs": [],
   "source": [],
   "metadata": {
    "collapsed": false
   },
   "id": "1062aff3e43a07e7"
  }
 ],
 "metadata": {
  "kernelspec": {
   "display_name": "Python 3",
   "language": "python",
   "name": "python3"
  },
  "language_info": {
   "codemirror_mode": {
    "name": "ipython",
    "version": 2
   },
   "file_extension": ".py",
   "mimetype": "text/x-python",
   "name": "python",
   "nbconvert_exporter": "python",
   "pygments_lexer": "ipython2",
   "version": "2.7.6"
  }
 },
 "nbformat": 4,
 "nbformat_minor": 5
}
