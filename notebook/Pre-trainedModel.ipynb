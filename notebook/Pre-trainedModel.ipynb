{
 "cells": [
  {
   "cell_type": "code",
   "execution_count": 4,
   "id": "initial_id",
   "metadata": {
    "collapsed": true,
    "ExecuteTime": {
     "end_time": "2024-04-25T17:59:20.581699700Z",
     "start_time": "2024-04-25T17:59:20.560701Z"
    }
   },
   "outputs": [],
   "source": [
    "import torch\n",
    "import os\n",
    "from torchvision import models\n",
    "from util import get_datasets, model_train, model_test\n",
    "device = torch.device(\"cuda\")\n",
    "from hyperparameters import(\n",
    "        PATH,\n",
    "        save_path,\n",
    "        learning_rate,\n",
    "        batch_size,\n",
    "        num_epochs,\n",
    "        image_resize,\n",
    "        num_each_class,\n",
    "        test_ratio)"
   ]
  },
  {
   "cell_type": "code",
   "outputs": [
    {
     "name": "stdout",
     "output_type": "stream",
     "text": [
      "Time for loading data: 107.32s\n"
     ]
    }
   ],
   "source": [
    "# Create DataLoaders if needed\n",
    "train_loader, test_loader = get_datasets(PATH, num_each_class, test_ratio, batch_size, image_resize)"
   ],
   "metadata": {
    "collapsed": false,
    "ExecuteTime": {
     "end_time": "2024-04-25T18:01:08.846086800Z",
     "start_time": "2024-04-25T17:59:21.518627400Z"
    }
   },
   "id": "cf5778a134d5610d",
   "execution_count": 5
  },
  {
   "cell_type": "code",
   "outputs": [
    {
     "name": "stdout",
     "output_type": "stream",
     "text": [
      "Total parameters: 23528522\n",
      "Trainable parameters: 23528522\n"
     ]
    },
    {
     "name": "stderr",
     "output_type": "stream",
     "text": [
      "100%|██████████| 438/438 [01:24<00:00,  5.16it/s]\n"
     ]
    },
    {
     "name": "stdout",
     "output_type": "stream",
     "text": [
      "Epoch 1/3, Loss: 0.4865, ACC: 87.2574\n"
     ]
    },
    {
     "name": "stderr",
     "output_type": "stream",
     "text": [
      "100%|██████████| 438/438 [01:25<00:00,  5.11it/s]\n"
     ]
    },
    {
     "name": "stdout",
     "output_type": "stream",
     "text": [
      "Epoch 2/3, Loss: 0.0461, ACC: 98.8584\n"
     ]
    },
    {
     "name": "stderr",
     "output_type": "stream",
     "text": [
      "100%|██████████| 438/438 [01:27<00:00,  5.03it/s]\n"
     ]
    },
    {
     "name": "stdout",
     "output_type": "stream",
     "text": [
      "Epoch 3/3, Loss: 0.0207, ACC: 99.4435\n",
      "Training time: 257.84s\n"
     ]
    },
    {
     "name": "stderr",
     "output_type": "stream",
     "text": [
      "100%|██████████| 188/188 [00:23<00:00,  7.91it/s]"
     ]
    },
    {
     "name": "stdout",
     "output_type": "stream",
     "text": [
      "Test Loss: 0.0507, Test Acc: 98.64\n"
     ]
    },
    {
     "name": "stderr",
     "output_type": "stream",
     "text": [
      "\n"
     ]
    }
   ],
   "source": [
    "# ResNet50\n",
    "model = models.resnet50(weights='DEFAULT')\n",
    "name = 'resnet50.pth'\n",
    "name = os.path.join(save_path, name)\n",
    "\n",
    "# Modify final fully connected layer\n",
    "num_features = model.fc.in_features\n",
    "model.fc = torch.nn.Linear(num_features, 10)\n",
    "\n",
    "# load model\n",
    "# model.load_state_dict(torch.load(name))\n",
    "\n",
    "# Define loss function\n",
    "criterion = torch.nn.CrossEntropyLoss()\n",
    "criterion = criterion.to(device)\n",
    "\n",
    "# Define optimizer\n",
    "# optimizer = torch.optim.SGD(model.parameters(), lr=0.01, momentum=0.9)\n",
    "optimizer = torch.optim.Adam(model.parameters(), lr=learning_rate)\n",
    "\n",
    "model_train(model, optimizer, criterion, device, train_loader, num_epochs)\n",
    "model_test(model, criterion, device, test_loader)\n",
    "\n",
    "# Save the state dictionary of the model\n",
    "torch.save(model.state_dict(), name)"
   ],
   "metadata": {
    "collapsed": false,
    "ExecuteTime": {
     "end_time": "2024-04-25T18:05:50.933381700Z",
     "start_time": "2024-04-25T18:01:08.849097500Z"
    }
   },
   "id": "f805e2ca7e01ac4d",
   "execution_count": 6
  },
  {
   "cell_type": "code",
   "outputs": [
    {
     "name": "stdout",
     "output_type": "stream",
     "text": [
      "Total parameters: 134301514\n",
      "Trainable parameters: 134301514\n"
     ]
    },
    {
     "name": "stderr",
     "output_type": "stream",
     "text": [
      "100%|██████████| 438/438 [04:48<00:00,  1.52it/s]\n"
     ]
    },
    {
     "name": "stdout",
     "output_type": "stream",
     "text": [
      "Epoch 1/3, Loss: 0.5417, ACC: 82.4629\n"
     ]
    },
    {
     "name": "stderr",
     "output_type": "stream",
     "text": [
      "100%|██████████| 438/438 [04:51<00:00,  1.50it/s]\n"
     ]
    },
    {
     "name": "stdout",
     "output_type": "stream",
     "text": [
      "Epoch 2/3, Loss: 0.1075, ACC: 97.0748\n"
     ]
    },
    {
     "name": "stderr",
     "output_type": "stream",
     "text": [
      "100%|██████████| 438/438 [04:41<00:00,  1.56it/s]\n"
     ]
    },
    {
     "name": "stdout",
     "output_type": "stream",
     "text": [
      "Epoch 3/3, Loss: 0.0601, ACC: 98.2734\n",
      "Training time: 861.11s\n"
     ]
    },
    {
     "name": "stderr",
     "output_type": "stream",
     "text": [
      "100%|██████████| 188/188 [00:31<00:00,  5.96it/s]\n"
     ]
    },
    {
     "name": "stdout",
     "output_type": "stream",
     "text": [
      "Test Loss: 0.4372, Test Acc: 88.96\n"
     ]
    }
   ],
   "source": [
    "# VGG16\n",
    "model = models.vgg16(weights='DEFAULT')\n",
    "name = 'vgg16.pth'\n",
    "name = os.path.join(save_path, name)\n",
    "\n",
    "# Modify final fully connected layer\n",
    "num_features = model.classifier[6].in_features\n",
    "model.classifier[6] = torch.nn.Linear(num_features, 10)\n",
    "\n",
    "# load model\n",
    "# model.load_state_dict(torch.load(name))\n",
    "\n",
    "# Define loss function\n",
    "criterion = torch.nn.CrossEntropyLoss()\n",
    "criterion = criterion.to(device)\n",
    "\n",
    "# Define optimizer\n",
    "# optimizer = torch.optim.SGD(model.parameters(), lr=0.01, momentum=0.9)\n",
    "optimizer = torch.optim.Adam(model.parameters(), lr=learning_rate)\n",
    "\n",
    "model_train(model, optimizer, criterion, device, train_loader, num_epochs)\n",
    "model_test(model, criterion, device, test_loader)\n",
    "\n",
    "# Save the state dictionary of the model\n",
    "torch.save(model.state_dict(), name)"
   ],
   "metadata": {
    "collapsed": false,
    "ExecuteTime": {
     "end_time": "2024-04-25T18:20:46.793513100Z",
     "start_time": "2024-04-25T18:05:50.936398800Z"
    }
   },
   "id": "e2c002b7e4cdb824",
   "execution_count": 7
  }
 ],
 "metadata": {
  "kernelspec": {
   "display_name": "Python 3",
   "language": "python",
   "name": "python3"
  },
  "language_info": {
   "codemirror_mode": {
    "name": "ipython",
    "version": 2
   },
   "file_extension": ".py",
   "mimetype": "text/x-python",
   "name": "python",
   "nbconvert_exporter": "python",
   "pygments_lexer": "ipython2",
   "version": "2.7.6"
  }
 },
 "nbformat": 4,
 "nbformat_minor": 5
}
