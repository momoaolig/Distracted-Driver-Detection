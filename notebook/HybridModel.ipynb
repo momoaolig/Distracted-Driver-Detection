{
 "cells": [
  {
   "cell_type": "code",
   "execution_count": 4,
   "id": "initial_id",
   "metadata": {
    "collapsed": true,
    "ExecuteTime": {
     "end_time": "2024-04-25T17:40:31.655830Z",
     "start_time": "2024-04-25T17:40:31.607617400Z"
    }
   },
   "outputs": [],
   "source": [
    "import torch\n",
    "import os\n",
    "from torchvision import models\n",
    "from util import get_datasets, model_train, model_test, TransitionLayer, CombinedModel\n",
    "device = torch.device(\"cuda\")\n",
    "from hyperparameters import(\n",
    "        PATH,\n",
    "        save_path,\n",
    "        learning_rate,\n",
    "        batch_size,\n",
    "        num_epochs,\n",
    "        image_resize,\n",
    "        num_each_class,\n",
    "        test_ratio)"
   ]
  },
  {
   "cell_type": "code",
   "outputs": [
    {
     "name": "stdout",
     "output_type": "stream",
     "text": [
      "Time for loading data: 102.68s\n"
     ]
    }
   ],
   "source": [
    "# Create DataLoaders if needed\n",
    "train_loader, test_loader = get_datasets(PATH, num_each_class, test_ratio, batch_size, image_resize)"
   ],
   "metadata": {
    "collapsed": false,
    "ExecuteTime": {
     "end_time": "2024-04-25T17:42:15.078365200Z",
     "start_time": "2024-04-25T17:40:32.388157800Z"
    }
   },
   "id": "e5ae61f342e8b8e8",
   "execution_count": 5
  },
  {
   "cell_type": "code",
   "outputs": [
    {
     "name": "stdout",
     "output_type": "stream",
     "text": [
      "Total parameters: 51810229\n",
      "Trainable parameters: 51810229\n"
     ]
    },
    {
     "name": "stderr",
     "output_type": "stream",
     "text": [
      "100%|██████████| 438/438 [01:37<00:00,  4.49it/s]\n"
     ]
    },
    {
     "name": "stdout",
     "output_type": "stream",
     "text": [
      "Epoch 1/4, Loss: 1.1545, ACC: 61.2586\n"
     ]
    },
    {
     "name": "stderr",
     "output_type": "stream",
     "text": [
      "100%|██████████| 438/438 [01:46<00:00,  4.09it/s]\n"
     ]
    },
    {
     "name": "stdout",
     "output_type": "stream",
     "text": [
      "Epoch 2/4, Loss: 0.2060, ACC: 94.0639\n"
     ]
    },
    {
     "name": "stderr",
     "output_type": "stream",
     "text": [
      "100%|██████████| 438/438 [01:40<00:00,  4.34it/s]\n"
     ]
    },
    {
     "name": "stdout",
     "output_type": "stream",
     "text": [
      "Epoch 3/4, Loss: 0.1052, ACC: 97.1889\n"
     ]
    },
    {
     "name": "stderr",
     "output_type": "stream",
     "text": [
      "100%|██████████| 438/438 [01:37<00:00,  4.49it/s]\n"
     ]
    },
    {
     "name": "stdout",
     "output_type": "stream",
     "text": [
      "Epoch 4/4, Loss: 0.0922, ACC: 97.6313\n",
      "Training time: 403.49s\n"
     ]
    },
    {
     "name": "stderr",
     "output_type": "stream",
     "text": [
      "100%|██████████| 188/188 [00:24<00:00,  7.75it/s]\n"
     ]
    },
    {
     "name": "stdout",
     "output_type": "stream",
     "text": [
      "Test Loss: 0.1059, Test Acc: 97.61\n"
     ]
    }
   ],
   "source": [
    "# ResNet50+swin\n",
    "name = 'Resnet50+swin_t.path'\n",
    "name = os.path.join(save_path, name)\n",
    "model_ResNet = models.resnet50(weights='DEFAULT')\n",
    "# Remove the avgpool and fully connected layer\n",
    "model_ResNet = torch.nn.Sequential(*list(model_ResNet.children())[:-2])\n",
    "\n",
    "model_swin = models.swin_t(weights=\"DEFAULT\")\n",
    "\n",
    "transition_layer = TransitionLayer()\n",
    "\n",
    "model = CombinedModel(model_ResNet, model_swin, transition_layer)\n",
    "num_features = model.model_b.head.in_features\n",
    "model.head = torch.nn.Linear(num_features, 10)\n",
    "\n",
    "# load model\n",
    "# model.load_state_dict(torch.load(name))\n",
    "\n",
    "# Define loss function\n",
    "criterion = torch.nn.CrossEntropyLoss()\n",
    "criterion = criterion.to(device)\n",
    "# Define optimizer\n",
    "# optimizer = torch.optim.SGD(model.parameters(), lr=0.01, momentum=0.9)\n",
    "optimizer = torch.optim.Adam(model.parameters(), lr=learning_rate)\n",
    "\n",
    "model_train(model, optimizer, criterion, device, train_loader, num_epochs)\n",
    "model_test(model, criterion, device, test_loader)\n",
    "\n",
    "# Save the state dictionary of the model\n",
    "torch.save(model.state_dict(), name)"
   ],
   "metadata": {
    "collapsed": false,
    "ExecuteTime": {
     "end_time": "2024-04-25T17:49:23.869754800Z",
     "start_time": "2024-04-25T17:42:15.083365400Z"
    }
   },
   "id": "398faf9aec116ba3",
   "execution_count": 6
  }
 ],
 "metadata": {
  "kernelspec": {
   "display_name": "Python 3",
   "language": "python",
   "name": "python3"
  },
  "language_info": {
   "codemirror_mode": {
    "name": "ipython",
    "version": 2
   },
   "file_extension": ".py",
   "mimetype": "text/x-python",
   "name": "python",
   "nbconvert_exporter": "python",
   "pygments_lexer": "ipython2",
   "version": "2.7.6"
  }
 },
 "nbformat": 4,
 "nbformat_minor": 5
}
