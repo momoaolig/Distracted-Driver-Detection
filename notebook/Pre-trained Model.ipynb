{
 "cells": [
  {
   "cell_type": "code",
   "execution_count": 6,
   "id": "initial_id",
   "metadata": {
    "collapsed": true,
    "ExecuteTime": {
     "end_time": "2024-04-17T03:59:46.273608700Z",
     "start_time": "2024-04-17T03:59:46.254093600Z"
    }
   },
   "outputs": [],
   "source": [
    "import pandas as pd\n",
    "from keras.layers import Dense, Flatten\n",
    "from keras.models import Model\n",
    "from util import load_data\n",
    "from keras.utils import to_categorical\n",
    "from keras.applications import ResNet50, VGG16\n",
    "from sklearn.model_selection import train_test_split\n",
    "PATH = '../sfddd/imgs/train'"
   ]
  },
  {
   "cell_type": "code",
   "outputs": [
    {
     "data": {
      "text/plain": "  subject classname            img\n0    p002        c0  img_44733.jpg\n1    p002        c0  img_72999.jpg\n2    p002        c0  img_25094.jpg\n3    p002        c0  img_69092.jpg\n4    p002        c0  img_92629.jpg",
      "text/html": "<div>\n<style scoped>\n    .dataframe tbody tr th:only-of-type {\n        vertical-align: middle;\n    }\n\n    .dataframe tbody tr th {\n        vertical-align: top;\n    }\n\n    .dataframe thead th {\n        text-align: right;\n    }\n</style>\n<table border=\"1\" class=\"dataframe\">\n  <thead>\n    <tr style=\"text-align: right;\">\n      <th></th>\n      <th>subject</th>\n      <th>classname</th>\n      <th>img</th>\n    </tr>\n  </thead>\n  <tbody>\n    <tr>\n      <th>0</th>\n      <td>p002</td>\n      <td>c0</td>\n      <td>img_44733.jpg</td>\n    </tr>\n    <tr>\n      <th>1</th>\n      <td>p002</td>\n      <td>c0</td>\n      <td>img_72999.jpg</td>\n    </tr>\n    <tr>\n      <th>2</th>\n      <td>p002</td>\n      <td>c0</td>\n      <td>img_25094.jpg</td>\n    </tr>\n    <tr>\n      <th>3</th>\n      <td>p002</td>\n      <td>c0</td>\n      <td>img_69092.jpg</td>\n    </tr>\n    <tr>\n      <th>4</th>\n      <td>p002</td>\n      <td>c0</td>\n      <td>img_92629.jpg</td>\n    </tr>\n  </tbody>\n</table>\n</div>"
     },
     "execution_count": 4,
     "metadata": {},
     "output_type": "execute_result"
    }
   ],
   "source": [
    "file_path = './sfddd/driver_imgs_list.csv'\n",
    "df = pd.read_csv(file_path)\n",
    "df.head()"
   ],
   "metadata": {
    "collapsed": false,
    "ExecuteTime": {
     "end_time": "2024-04-17T03:09:39.927784700Z",
     "start_time": "2024-04-17T03:09:39.870713200Z"
    }
   },
   "id": "a06198fae9bca300",
   "execution_count": 4
  },
  {
   "cell_type": "code",
   "outputs": [
    {
     "name": "stderr",
     "output_type": "stream",
     "text": [
      "100%|██████████| 100/100 [00:00<00:00, 354.54it/s]\n",
      "100%|██████████| 100/100 [00:00<00:00, 361.53it/s]\n",
      "100%|██████████| 100/100 [00:00<00:00, 375.14it/s]\n",
      "100%|██████████| 100/100 [00:00<00:00, 356.12it/s]\n",
      "100%|██████████| 100/100 [00:00<00:00, 360.51it/s]\n",
      "100%|██████████| 100/100 [00:00<00:00, 386.03it/s]\n",
      "100%|██████████| 100/100 [00:00<00:00, 374.75it/s]\n",
      "100%|██████████| 100/100 [00:00<00:00, 366.13it/s]\n",
      "100%|██████████| 100/100 [00:00<00:00, 379.45it/s]\n",
      "100%|██████████| 100/100 [00:00<00:00, 387.47it/s]\n"
     ]
    },
    {
     "name": "stdout",
     "output_type": "stream",
     "text": [
      "1000 1000\n",
      "(1000, 224, 224, 3) (1000, 10)\n"
     ]
    }
   ],
   "source": [
    "X, y = load_data(100, PATH)\n",
    "y = to_categorical(y)\n",
    "print(len(X), len(y))\n",
    "print(X.shape, y.shape)\n",
    "\n",
    "X_train, X_test, y_train, y_test = train_test_split(X, y, test_size=0.3, random_state = 42)"
   ],
   "metadata": {
    "collapsed": false,
    "ExecuteTime": {
     "end_time": "2024-04-17T03:09:46.213643800Z",
     "start_time": "2024-04-17T03:09:43.352235900Z"
    }
   },
   "id": "956552c065176b6f",
   "execution_count": 6
  },
  {
   "cell_type": "code",
   "outputs": [
    {
     "name": "stdout",
     "output_type": "stream",
     "text": [
      "Epoch 1/10\n",
      "\u001B[1m5/5\u001B[0m \u001B[32m━━━━━━━━━━━━━━━━━━━━\u001B[0m\u001B[37m\u001B[0m \u001B[1m28s\u001B[0m 4s/step - accuracy: 0.0764 - loss: 146.0005 - val_accuracy: 0.0900 - val_loss: 251.2826\n",
      "Epoch 2/10\n",
      "\u001B[1m5/5\u001B[0m \u001B[32m━━━━━━━━━━━━━━━━━━━━\u001B[0m\u001B[37m\u001B[0m \u001B[1m15s\u001B[0m 3s/step - accuracy: 0.1857 - loss: 196.1806 - val_accuracy: 0.2654 - val_loss: 56.1180\n",
      "Epoch 3/10\n",
      "\u001B[1m5/5\u001B[0m \u001B[32m━━━━━━━━━━━━━━━━━━━━\u001B[0m\u001B[37m\u001B[0m \u001B[1m15s\u001B[0m 3s/step - accuracy: 0.2491 - loss: 52.8528 - val_accuracy: 0.2701 - val_loss: 25.1765\n",
      "Epoch 4/10\n",
      "\u001B[1m5/5\u001B[0m \u001B[32m━━━━━━━━━━━━━━━━━━━━\u001B[0m\u001B[37m\u001B[0m \u001B[1m15s\u001B[0m 3s/step - accuracy: 0.4235 - loss: 16.1276 - val_accuracy: 0.2844 - val_loss: 9.3138\n",
      "Epoch 5/10\n",
      "\u001B[1m5/5\u001B[0m \u001B[32m━━━━━━━━━━━━━━━━━━━━\u001B[0m\u001B[37m\u001B[0m \u001B[1m15s\u001B[0m 3s/step - accuracy: 0.5050 - loss: 4.0995 - val_accuracy: 0.5024 - val_loss: 4.5791\n",
      "Epoch 6/10\n",
      "\u001B[1m5/5\u001B[0m \u001B[32m━━━━━━━━━━━━━━━━━━━━\u001B[0m\u001B[37m\u001B[0m \u001B[1m15s\u001B[0m 3s/step - accuracy: 0.7197 - loss: 1.9465 - val_accuracy: 0.6303 - val_loss: 2.6717\n",
      "Epoch 7/10\n",
      "\u001B[1m5/5\u001B[0m \u001B[32m━━━━━━━━━━━━━━━━━━━━\u001B[0m\u001B[37m\u001B[0m \u001B[1m15s\u001B[0m 3s/step - accuracy: 0.8709 - loss: 0.6108 - val_accuracy: 0.6730 - val_loss: 1.6873\n",
      "Epoch 8/10\n",
      "\u001B[1m5/5\u001B[0m \u001B[32m━━━━━━━━━━━━━━━━━━━━\u001B[0m\u001B[37m\u001B[0m \u001B[1m14s\u001B[0m 3s/step - accuracy: 0.9507 - loss: 0.1610 - val_accuracy: 0.7346 - val_loss: 1.1575\n",
      "Epoch 9/10\n",
      "\u001B[1m5/5\u001B[0m \u001B[32m━━━━━━━━━━━━━━━━━━━━\u001B[0m\u001B[37m\u001B[0m \u001B[1m15s\u001B[0m 3s/step - accuracy: 0.9826 - loss: 0.0657 - val_accuracy: 0.7156 - val_loss: 1.2444\n",
      "Epoch 10/10\n",
      "\u001B[1m5/5\u001B[0m \u001B[32m━━━━━━━━━━━━━━━━━━━━\u001B[0m\u001B[37m\u001B[0m \u001B[1m14s\u001B[0m 3s/step - accuracy: 0.9958 - loss: 0.0324 - val_accuracy: 0.7678 - val_loss: 1.1887\n"
     ]
    },
    {
     "data": {
      "text/plain": "<keras.src.callbacks.history.History at 0x134e7d36300>"
     },
     "execution_count": 12,
     "metadata": {},
     "output_type": "execute_result"
    }
   ],
   "source": [
    "# ResNet\n",
    "model = ResNet50(weights='imagenet', include_top=False, input_shape=(224,224,3))\n",
    "for layer in model.layers:\n",
    "    layer.trainable = False\n",
    "x = Flatten()(model.output)\n",
    "x = Dense(1024, activation='relu')(x)\n",
    "x = Dense(1024, activation='relu')(x)\n",
    "outputs = Dense(10, activation='softmax')(x)\n",
    "model = Model(inputs=model.input, outputs=outputs)\n",
    "\n",
    "model.compile(optimizer='adam', loss='categorical_crossentropy', metrics=['accuracy'])\n",
    "model.fit(X_train, y_train, epochs=10, batch_size=100, validation_split=0.3)"
   ],
   "metadata": {
    "collapsed": false,
    "ExecuteTime": {
     "end_time": "2024-04-17T02:32:54.973294700Z",
     "start_time": "2024-04-17T02:30:11.117782300Z"
    }
   },
   "id": "8ce0df988eff4a81",
   "execution_count": 12
  },
  {
   "cell_type": "code",
   "outputs": [
    {
     "name": "stdout",
     "output_type": "stream",
     "text": [
      "\u001B[1m10/10\u001B[0m \u001B[32m━━━━━━━━━━━━━━━━━━━━\u001B[0m\u001B[37m\u001B[0m \u001B[1m6s\u001B[0m 579ms/step - accuracy: 0.8138 - loss: 0.8855\n"
     ]
    },
    {
     "data": {
      "text/plain": "[1.0393413305282593, 0.79666668176651]"
     },
     "execution_count": 13,
     "metadata": {},
     "output_type": "execute_result"
    }
   ],
   "source": [
    "model.evaluate(X_test, y_test)"
   ],
   "metadata": {
    "collapsed": false,
    "ExecuteTime": {
     "end_time": "2024-04-17T02:35:04.552400900Z",
     "start_time": "2024-04-17T02:34:58.410683300Z"
    }
   },
   "id": "4605bf87c170e326",
   "execution_count": 13
  },
  {
   "cell_type": "code",
   "outputs": [
    {
     "name": "stdout",
     "output_type": "stream",
     "text": [
      "Epoch 1/10\n",
      "\u001B[1m5/5\u001B[0m \u001B[32m━━━━━━━━━━━━━━━━━━━━\u001B[0m\u001B[37m\u001B[0m \u001B[1m35s\u001B[0m 7s/step - accuracy: 0.1169 - loss: 194.7853 - val_accuracy: 0.1090 - val_loss: 176.0526\n",
      "Epoch 2/10\n",
      "\u001B[1m5/5\u001B[0m \u001B[32m━━━━━━━━━━━━━━━━━━━━\u001B[0m\u001B[37m\u001B[0m \u001B[1m30s\u001B[0m 6s/step - accuracy: 0.1988 - loss: 135.2615 - val_accuracy: 0.2891 - val_loss: 53.3123\n",
      "Epoch 3/10\n",
      "\u001B[1m5/5\u001B[0m \u001B[32m━━━━━━━━━━━━━━━━━━━━\u001B[0m\u001B[37m\u001B[0m \u001B[1m30s\u001B[0m 7s/step - accuracy: 0.3522 - loss: 35.4602 - val_accuracy: 0.4360 - val_loss: 14.7162\n",
      "Epoch 4/10\n",
      "\u001B[1m5/5\u001B[0m \u001B[32m━━━━━━━━━━━━━━━━━━━━\u001B[0m\u001B[37m\u001B[0m \u001B[1m29s\u001B[0m 6s/step - accuracy: 0.5859 - loss: 7.9726 - val_accuracy: 0.5450 - val_loss: 7.6187\n",
      "Epoch 5/10\n",
      "\u001B[1m5/5\u001B[0m \u001B[32m━━━━━━━━━━━━━━━━━━━━\u001B[0m\u001B[37m\u001B[0m \u001B[1m30s\u001B[0m 6s/step - accuracy: 0.8015 - loss: 1.8676 - val_accuracy: 0.6351 - val_loss: 5.3963\n",
      "Epoch 6/10\n",
      "\u001B[1m5/5\u001B[0m \u001B[32m━━━━━━━━━━━━━━━━━━━━\u001B[0m\u001B[37m\u001B[0m \u001B[1m29s\u001B[0m 6s/step - accuracy: 0.8783 - loss: 0.8910 - val_accuracy: 0.6919 - val_loss: 3.3600\n",
      "Epoch 7/10\n",
      "\u001B[1m5/5\u001B[0m \u001B[32m━━━━━━━━━━━━━━━━━━━━\u001B[0m\u001B[37m\u001B[0m \u001B[1m30s\u001B[0m 6s/step - accuracy: 0.9680 - loss: 0.1419 - val_accuracy: 0.7488 - val_loss: 2.4002\n",
      "Epoch 8/10\n",
      "\u001B[1m5/5\u001B[0m \u001B[32m━━━━━━━━━━━━━━━━━━━━\u001B[0m\u001B[37m\u001B[0m \u001B[1m29s\u001B[0m 6s/step - accuracy: 0.9808 - loss: 0.0682 - val_accuracy: 0.7488 - val_loss: 2.4622\n",
      "Epoch 9/10\n",
      "\u001B[1m5/5\u001B[0m \u001B[32m━━━━━━━━━━━━━━━━━━━━\u001B[0m\u001B[37m\u001B[0m \u001B[1m29s\u001B[0m 6s/step - accuracy: 0.9792 - loss: 0.0753 - val_accuracy: 0.7867 - val_loss: 2.1727\n",
      "Epoch 10/10\n",
      "\u001B[1m5/5\u001B[0m \u001B[32m━━━━━━━━━━━━━━━━━━━━\u001B[0m\u001B[37m\u001B[0m \u001B[1m29s\u001B[0m 6s/step - accuracy: 0.9993 - loss: 0.0092 - val_accuracy: 0.7773 - val_loss: 2.4986\n"
     ]
    },
    {
     "data": {
      "text/plain": "<keras.src.callbacks.history.History at 0x20df7405340>"
     },
     "execution_count": 7,
     "metadata": {},
     "output_type": "execute_result"
    }
   ],
   "source": [
    "# VGG\n",
    "model = VGG16(weights='imagenet', include_top=False, input_shape=(224,224,3))\n",
    "for layer in model.layers:\n",
    "    layer.trainable = False\n",
    "x = Flatten()(model.output)\n",
    "x = Dense(1024, activation='relu')(x)\n",
    "x = Dense(1024, activation='relu')(x)\n",
    "outputs = Dense(10, activation='softmax')(x)\n",
    "model = Model(inputs=model.input, outputs=outputs)\n",
    "\n",
    "model.compile(optimizer='adam', loss='categorical_crossentropy', metrics=['accuracy'])\n",
    "model.fit(X_train, y_train, epochs=10, batch_size=100, validation_split=0.3)"
   ],
   "metadata": {
    "collapsed": false,
    "ExecuteTime": {
     "end_time": "2024-04-17T03:14:50.587554Z",
     "start_time": "2024-04-17T03:09:50.124474800Z"
    }
   },
   "id": "dd7fc037b9d4b3a8",
   "execution_count": 7
  },
  {
   "cell_type": "code",
   "outputs": [
    {
     "name": "stdout",
     "output_type": "stream",
     "text": [
      "\u001B[1m10/10\u001B[0m \u001B[32m━━━━━━━━━━━━━━━━━━━━\u001B[0m\u001B[37m\u001B[0m \u001B[1m12s\u001B[0m 1s/step - accuracy: 0.8450 - loss: 2.3211\n"
     ]
    },
    {
     "data": {
      "text/plain": "[2.240534543991089, 0.8433333039283752]"
     },
     "execution_count": 8,
     "metadata": {},
     "output_type": "execute_result"
    }
   ],
   "source": [
    "model.evaluate(X_test, y_test)"
   ],
   "metadata": {
    "collapsed": false,
    "ExecuteTime": {
     "end_time": "2024-04-17T03:15:14.484175Z",
     "start_time": "2024-04-17T03:15:02.162106300Z"
    }
   },
   "id": "c1a6e95f0e70d193",
   "execution_count": 8
  },
  {
   "cell_type": "code",
   "outputs": [],
   "source": [],
   "metadata": {
    "collapsed": false
   },
   "id": "a55bf785bc08ceb0"
  }
 ],
 "metadata": {
  "kernelspec": {
   "display_name": "Python 3",
   "language": "python",
   "name": "python3"
  },
  "language_info": {
   "codemirror_mode": {
    "name": "ipython",
    "version": 2
   },
   "file_extension": ".py",
   "mimetype": "text/x-python",
   "name": "python",
   "nbconvert_exporter": "python",
   "pygments_lexer": "ipython2",
   "version": "2.7.6"
  }
 },
 "nbformat": 4,
 "nbformat_minor": 5
}
