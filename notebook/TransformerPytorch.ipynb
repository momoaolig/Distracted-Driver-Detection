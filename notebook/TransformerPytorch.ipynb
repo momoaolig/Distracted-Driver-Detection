{
 "cells": [
  {
   "cell_type": "code",
   "execution_count": 1,
   "id": "initial_id",
   "metadata": {
    "collapsed": true,
    "ExecuteTime": {
     "end_time": "2024-04-25T17:15:46.580242100Z",
     "start_time": "2024-04-25T17:15:43.970429700Z"
    }
   },
   "outputs": [],
   "source": [
    "import torch\n",
    "import os\n",
    "from torchvision import models\n",
    "from util import get_datasets, model_train, model_test\n",
    "device = torch.device(\"cuda\")\n",
    "from hyperparameters import(\n",
    "        PATH,\n",
    "        save_path,\n",
    "        learning_rate,\n",
    "        batch_size,\n",
    "        num_epochs,\n",
    "        image_resize,\n",
    "        num_each_class,\n",
    "        test_ratio)"
   ]
  },
  {
   "cell_type": "code",
   "outputs": [
    {
     "name": "stdout",
     "output_type": "stream",
     "text": [
      "Time for loading data: 96.41274881362915\n"
     ]
    }
   ],
   "source": [
    "# Create DataLoaders if needed\n",
    "train_loader, test_loader = get_datasets(PATH, num_each_class, test_ratio, batch_size, image_resize)"
   ],
   "metadata": {
    "collapsed": false,
    "ExecuteTime": {
     "end_time": "2024-04-25T17:18:54.932686Z",
     "start_time": "2024-04-25T17:17:18.506903400Z"
    }
   },
   "id": "daa1fcea63ec0ffa",
   "execution_count": 3
  },
  {
   "cell_type": "code",
   "outputs": [
    {
     "name": "stdout",
     "output_type": "stream",
     "text": [
      "Total parameters: 27527044\n",
      "Trainable parameters: 27527044\n"
     ]
    },
    {
     "name": "stderr",
     "output_type": "stream",
     "text": [
      "100%|██████████| 438/438 [01:58<00:00,  3.70it/s]\n"
     ]
    },
    {
     "name": "stdout",
     "output_type": "stream",
     "text": [
      "Epoch 1/3, Loss: 0.5884, ACC: 80.4081\n",
      "Training time: 118.72664332389832\n"
     ]
    },
    {
     "name": "stderr",
     "output_type": "stream",
     "text": [
      "100%|██████████| 438/438 [01:58<00:00,  3.69it/s]\n"
     ]
    },
    {
     "name": "stdout",
     "output_type": "stream",
     "text": [
      "Epoch 2/3, Loss: 0.1114, ACC: 96.9606\n",
      "Training time: 237.4871666431427\n"
     ]
    },
    {
     "name": "stderr",
     "output_type": "stream",
     "text": [
      "100%|██████████| 438/438 [01:59<00:00,  3.68it/s]\n"
     ]
    },
    {
     "name": "stdout",
     "output_type": "stream",
     "text": [
      "Epoch 3/3, Loss: 0.0743, ACC: 97.8311\n",
      "Training time: 356.5649359226227\n"
     ]
    },
    {
     "name": "stderr",
     "output_type": "stream",
     "text": [
      "100%|██████████| 188/188 [00:26<00:00,  6.98it/s]\n"
     ]
    },
    {
     "name": "stdout",
     "output_type": "stream",
     "text": [
      "Test Loss: 0.1366, Test Acc: 97.11\n"
     ]
    }
   ],
   "source": [
    "# swin_t\n",
    "model = models.swin_t(weights='DEFAULT')\n",
    "name = 'swin_t.pth'\n",
    "name = os.path.join(save_path, name)\n",
    "\n",
    "num_features = model.head.in_features\n",
    "model.head = torch.nn.Linear(num_features, 10)\n",
    "\n",
    "# load model\n",
    "# model.load_state_dict(torch.load(name))\n",
    "\n",
    "# Define loss function\n",
    "criterion = torch.nn.CrossEntropyLoss()\n",
    "criterion = criterion.to(device)\n",
    "# Define optimizer\n",
    "# optimizer = torch.optim.SGD(model.parameters(), lr=0.01, momentum=0.9)\n",
    "optimizer = torch.optim.Adam(model.parameters(), lr=learning_rate)\n",
    "\n",
    "model_train(model, optimizer, criterion, device, train_loader, num_epochs)\n",
    "model_test(model, criterion, device, test_loader)\n",
    "\n",
    "# Save the state dictionary of the model\n",
    "torch.save(model.state_dict(), name)\n"
   ],
   "metadata": {
    "collapsed": false,
    "ExecuteTime": {
     "end_time": "2024-04-25T17:25:19.085822800Z",
     "start_time": "2024-04-25T17:18:54.936659200Z"
    }
   },
   "id": "43492d1fc78536d5",
   "execution_count": 4
  },
  {
   "cell_type": "code",
   "outputs": [
    {
     "name": "stdout",
     "output_type": "stream",
     "text": [
      "Total parameters: 85806346\n",
      "Trainable parameters: 85806346\n"
     ]
    },
    {
     "name": "stderr",
     "output_type": "stream",
     "text": [
      "  0%|          | 0/438 [00:00<?, ?it/s]D:\\Anaconda\\envs\\pytorch-gpu\\lib\\site-packages\\torch\\nn\\functional.py:5476: UserWarning: 1Torch was not compiled with flash attention. (Triggered internally at C:\\cb\\pytorch_1000000000000\\work\\aten\\src\\ATen\\native\\transformers\\cuda\\sdp_utils.cpp:263.)\n",
      "  attn_output = scaled_dot_product_attention(q, k, v, attn_mask, dropout_p, is_causal)\n",
      "100%|██████████| 438/438 [04:06<00:00,  1.78it/s]\n"
     ]
    },
    {
     "name": "stdout",
     "output_type": "stream",
     "text": [
      "Epoch 1/3, Loss: 1.3853, ACC: 49.0582\n",
      "Training time: 246.81036114692688\n"
     ]
    },
    {
     "name": "stderr",
     "output_type": "stream",
     "text": [
      "100%|██████████| 438/438 [04:06<00:00,  1.78it/s]\n"
     ]
    },
    {
     "name": "stdout",
     "output_type": "stream",
     "text": [
      "Epoch 2/3, Loss: 0.2144, ACC: 93.4075\n",
      "Training time: 493.37537002563477\n"
     ]
    },
    {
     "name": "stderr",
     "output_type": "stream",
     "text": [
      "100%|██████████| 438/438 [04:06<00:00,  1.78it/s]\n"
     ]
    },
    {
     "name": "stdout",
     "output_type": "stream",
     "text": [
      "Epoch 3/3, Loss: 0.1034, ACC: 96.8750\n",
      "Training time: 740.1082117557526\n"
     ]
    },
    {
     "name": "stderr",
     "output_type": "stream",
     "text": [
      "100%|██████████| 188/188 [00:43<00:00,  4.35it/s]\n"
     ]
    },
    {
     "name": "stdout",
     "output_type": "stream",
     "text": [
      "Test Loss: 0.2595, Test Acc: 92.05\n"
     ]
    }
   ],
   "source": [
    "# vit\n",
    "model = models.vit_b_16(weights='DEFAULT')\n",
    "name = 'vit.pth'\n",
    "name = os.path.join(save_path, name)\n",
    "\n",
    "num_features = model.heads[-1].in_features\n",
    "model.heads[-1] = torch.nn.Linear(num_features, 10)\n",
    "\n",
    "# load model\n",
    "# model.load_state_dict(torch.load(name))\n",
    "\n",
    "# Define loss function\n",
    "criterion = torch.nn.CrossEntropyLoss()\n",
    "criterion = criterion.to(device)\n",
    "# Define optimizer\n",
    "# optimizer = torch.optim.SGD(model.parameters(), lr=0.01, momentum=0.9)\n",
    "optimizer = torch.optim.Adam(model.parameters(), lr=learning_rate)\n",
    "\n",
    "model_train(model, optimizer, criterion, device, train_loader, num_epochs)\n",
    "model_test(model, criterion, device, test_loader)\n",
    "\n",
    "# Save the state dictionary of the model\n",
    "torch.save(model.state_dict(), name)"
   ],
   "metadata": {
    "collapsed": false,
    "ExecuteTime": {
     "end_time": "2024-04-25T17:38:23.748260300Z",
     "start_time": "2024-04-25T17:25:19.088823100Z"
    }
   },
   "id": "b74f95409ed337e1",
   "execution_count": 5
  }
 ],
 "metadata": {
  "kernelspec": {
   "display_name": "Python 3",
   "language": "python",
   "name": "python3"
  },
  "language_info": {
   "codemirror_mode": {
    "name": "ipython",
    "version": 2
   },
   "file_extension": ".py",
   "mimetype": "text/x-python",
   "name": "python",
   "nbconvert_exporter": "python",
   "pygments_lexer": "ipython2",
   "version": "2.7.6"
  }
 },
 "nbformat": 4,
 "nbformat_minor": 5
}
